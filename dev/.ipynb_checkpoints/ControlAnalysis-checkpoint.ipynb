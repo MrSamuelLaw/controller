{
 "cells": [
  {
   "cell_type": "markdown",
   "metadata": {},
   "source": [
    "# TITLE: Basic Control Analysis\n",
    "# AUTHOR: Samuel Law\n",
    "---"
   ]
  },
  {
   "cell_type": "code",
   "execution_count": 7,
   "metadata": {},
   "outputs": [],
   "source": [
    "%reset -f"
   ]
  },
  {
   "cell_type": "code",
   "execution_count": 85,
   "metadata": {},
   "outputs": [],
   "source": [
    "import numpy as np\n",
    "import ipywidgets as ipw\n",
    "from scipy.integrate import RK45\n",
    "from matplotlib import pyplot as plt"
   ]
  },
  {
   "cell_type": "code",
   "execution_count": 9,
   "metadata": {},
   "outputs": [],
   "source": [
    "# x2 = V,    x2d = dVdt"
   ]
  },
  {
   "cell_type": "code",
   "execution_count": 42,
   "metadata": {},
   "outputs": [],
   "source": [
    "# equation for rpm as a function of voltage\n",
    "rpm_of_v = lambda v: 45*v"
   ]
  },
  {
   "cell_type": "code",
   "execution_count": 88,
   "metadata": {},
   "outputs": [
    {
     "data": {
      "application/vnd.jupyter.widget-view+json": {
       "model_id": "835f143ad1f14b53a565055f64c0f5db",
       "version_major": 2,
       "version_minor": 0
      },
      "text/plain": [
       "interactive(children=(FloatSlider(value=0.5, description='KP', max=1.0), FloatSlider(value=0.5, description='K…"
      ]
     },
     "metadata": {},
     "output_type": "display_data"
    }
   ],
   "source": [
    "\n",
    "def update(KP, KI, KD):\n",
    "    # set the RPM\n",
    "    rpm = 100;\n",
    "    _target_rpm = rpm;                  # rot per min\n",
    "    _target_delay = 60000/_target_rpm;  # delay in ms\n",
    "    _target_freq = 1000/_target_delay;  # signal in hz\n",
    "\n",
    "    t0 = 1e-6\n",
    "    y0 = [0]\n",
    "    results = np.array([[0, *y0]])\n",
    "\n",
    "    def func(t, y):\n",
    "        V = y                      # unpack the vector\n",
    "        freq = rpm_of_v(V)/60      # compute the freq\n",
    "        E = _target_freq - freq    # compute error\n",
    "\n",
    "        t_last, V_last = results[-1]                    # grab last values\n",
    "        freq_last = rpm_of_v(V_last)/60                 # compute old freq\n",
    "        E_last = freq - freq_last                       # compute old error\n",
    "        dt = t - t_last                                 # compute discrete time delta\n",
    "        dEdt = (E - E_last)/dt                          # compute linear derivatives\n",
    "        Esum = np.trapz(results[:, -1], results[:, 0])  # integral of the error with respect to time\n",
    "        dVdt = KP*E + KI*Esum * KD*dEdt                 # change in voltage                                     \n",
    "\n",
    "        return dVdt\n",
    "\n",
    "    \n",
    "    integrator = RK45(func, t0, y0, 100, max_step=1)\n",
    "    while integrator.status == \"running\":\n",
    "        integrator.step()\n",
    "        results = np.vstack([results, [integrator.t, *integrator.y]])\n",
    "        if results[-1][-1] >= 1.9:\n",
    "            break;\n",
    "    plt.plot(results[:, 0], results[:, 1]);\n",
    "    \n",
    "ipw.interact(\n",
    "    update, \n",
    "    KP = ipw.FloatSlider(min=0, max=1, value=0.5, description='KP'),\n",
    "    KI = ipw.FloatSlider(min=0, max=1, value=0.5, description='KI'),\n",
    "    KD = ipw.FloatSlider(min=0, max=1, value=0.5, description='KD'),\n",
    ");"
   ]
  }
 ],
 "metadata": {
  "kernelspec": {
   "display_name": "optimal controls",
   "language": "python",
   "name": "python3"
  },
  "language_info": {
   "codemirror_mode": {
    "name": "ipython",
    "version": 3
   },
   "file_extension": ".py",
   "mimetype": "text/x-python",
   "name": "python",
   "nbconvert_exporter": "python",
   "pygments_lexer": "ipython3",
   "version": "3.9.0"
  },
  "widgets": {
   "application/vnd.jupyter.widget-state+json": {
    "state": {
     "0e4f9dbe4c2747bcb4205c162e548e8b": {
      "model_module": "@jupyter-widgets/controls",
      "model_module_version": "1.5.0",
      "model_name": "FloatSliderModel",
      "state": {
       "description": "KD",
       "layout": "IPY_MODEL_64fe0b449a614befa6302333031f60ad",
       "max": 1,
       "step": 0.1,
       "style": "IPY_MODEL_d3a5d66911894daeacfba8af59d57efa"
      }
     },
     "1d90216b67004cfa92838326b3b22499": {
      "model_module": "@jupyter-widgets/base",
      "model_module_version": "1.2.0",
      "model_name": "LayoutModel",
      "state": {}
     },
     "1f067e6033064fc490630db6e07e85f5": {
      "model_module": "@jupyter-widgets/base",
      "model_module_version": "1.2.0",
      "model_name": "LayoutModel",
      "state": {}
     },
     "453c8713eb004c0b8b8487b1d57c0754": {
      "model_module": "@jupyter-widgets/controls",
      "model_module_version": "1.5.0",
      "model_name": "SliderStyleModel",
      "state": {
       "description_width": ""
      }
     },
     "4c7adea112964206abd95be0f463ace0": {
      "model_module": "@jupyter-widgets/controls",
      "model_module_version": "1.5.0",
      "model_name": "VBoxModel",
      "state": {
       "_dom_classes": [
        "widget-interact"
       ],
       "children": [
        "IPY_MODEL_cd8a6e9fc6ab4e6da63d0f5e3587ae81",
        "IPY_MODEL_7a7fa180c4074822aabdec43453fba13",
        "IPY_MODEL_d85b8ea6efba4d46bb1d06950d38a2bc",
        "IPY_MODEL_8317fe1104eb49d7bc6112ff54b34d5f"
       ],
       "layout": "IPY_MODEL_8a07ded2742b4132b97273793d6cbb3c"
      }
     },
     "5140f525f85547c7b16f18bfe0f6961f": {
      "model_module": "@jupyter-widgets/base",
      "model_module_version": "1.2.0",
      "model_name": "LayoutModel",
      "state": {}
     },
     "5b2542fd9d654943b6605abe7922fbd0": {
      "model_module": "@jupyter-widgets/controls",
      "model_module_version": "1.5.0",
      "model_name": "FloatSliderModel",
      "state": {
       "description": "KP",
       "layout": "IPY_MODEL_1f067e6033064fc490630db6e07e85f5",
       "max": 1,
       "step": 0.1,
       "style": "IPY_MODEL_9cb7033753d24ae4962d19a73a894c75",
       "value": 0.7
      }
     },
     "64fe0b449a614befa6302333031f60ad": {
      "model_module": "@jupyter-widgets/base",
      "model_module_version": "1.2.0",
      "model_name": "LayoutModel",
      "state": {}
     },
     "7a7fa180c4074822aabdec43453fba13": {
      "model_module": "@jupyter-widgets/controls",
      "model_module_version": "1.5.0",
      "model_name": "FloatSliderModel",
      "state": {
       "description": "KI",
       "layout": "IPY_MODEL_ad102e1599804e208d1a4f6538424cd0",
       "max": 1,
       "step": 0.1,
       "style": "IPY_MODEL_b3b04b6ee1e94180aaec7e78c28d2955",
       "value": 0.5
      }
     },
     "8317fe1104eb49d7bc6112ff54b34d5f": {
      "model_module": "@jupyter-widgets/output",
      "model_module_version": "1.0.0",
      "model_name": "OutputModel",
      "state": {
       "layout": "IPY_MODEL_f2c7f115d60a4d4b8f8319757ac8f3bf",
       "outputs": [
        {
         "data": {
          "image/png": "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\n",
          "text/plain": "<Figure size 432x288 with 1 Axes>"
         },
         "metadata": {
          "needs_background": "light"
         },
         "output_type": "display_data"
        }
       ]
      }
     },
     "835f143ad1f14b53a565055f64c0f5db": {
      "model_module": "@jupyter-widgets/controls",
      "model_module_version": "1.5.0",
      "model_name": "VBoxModel",
      "state": {
       "_dom_classes": [
        "widget-interact"
       ],
       "children": [
        "IPY_MODEL_5b2542fd9d654943b6605abe7922fbd0",
        "IPY_MODEL_bc997f57746f4291a2ad634e65fc724c",
        "IPY_MODEL_0e4f9dbe4c2747bcb4205c162e548e8b",
        "IPY_MODEL_b595c47eecd848708416be0fccb7b18c"
       ],
       "layout": "IPY_MODEL_5140f525f85547c7b16f18bfe0f6961f"
      }
     },
     "8a07ded2742b4132b97273793d6cbb3c": {
      "model_module": "@jupyter-widgets/base",
      "model_module_version": "1.2.0",
      "model_name": "LayoutModel",
      "state": {}
     },
     "8c44a4e2c8b6446eb0f2d182c38e8145": {
      "model_module": "@jupyter-widgets/controls",
      "model_module_version": "1.5.0",
      "model_name": "SliderStyleModel",
      "state": {
       "description_width": ""
      }
     },
     "9cb7033753d24ae4962d19a73a894c75": {
      "model_module": "@jupyter-widgets/controls",
      "model_module_version": "1.5.0",
      "model_name": "SliderStyleModel",
      "state": {
       "description_width": ""
      }
     },
     "9e834fad615a4688a0cab5025fb87e3a": {
      "model_module": "@jupyter-widgets/base",
      "model_module_version": "1.2.0",
      "model_name": "LayoutModel",
      "state": {}
     },
     "ad102e1599804e208d1a4f6538424cd0": {
      "model_module": "@jupyter-widgets/base",
      "model_module_version": "1.2.0",
      "model_name": "LayoutModel",
      "state": {}
     },
     "b3b04b6ee1e94180aaec7e78c28d2955": {
      "model_module": "@jupyter-widgets/controls",
      "model_module_version": "1.5.0",
      "model_name": "SliderStyleModel",
      "state": {
       "description_width": ""
      }
     },
     "b595c47eecd848708416be0fccb7b18c": {
      "model_module": "@jupyter-widgets/output",
      "model_module_version": "1.0.0",
      "model_name": "OutputModel",
      "state": {
       "layout": "IPY_MODEL_9e834fad615a4688a0cab5025fb87e3a",
       "outputs": [
        {
         "data": {
          "image/png": "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\n",
          "text/plain": "<Figure size 432x288 with 1 Axes>"
         },
         "metadata": {
          "needs_background": "light"
         },
         "output_type": "display_data"
        }
       ]
      }
     },
     "bc997f57746f4291a2ad634e65fc724c": {
      "model_module": "@jupyter-widgets/controls",
      "model_module_version": "1.5.0",
      "model_name": "FloatSliderModel",
      "state": {
       "description": "KI",
       "layout": "IPY_MODEL_eedf67fe3226491393ba02cc92556660",
       "max": 1,
       "step": 0.1,
       "style": "IPY_MODEL_8c44a4e2c8b6446eb0f2d182c38e8145",
       "value": 0.1
      }
     },
     "cd8a6e9fc6ab4e6da63d0f5e3587ae81": {
      "model_module": "@jupyter-widgets/controls",
      "model_module_version": "1.5.0",
      "model_name": "FloatSliderModel",
      "state": {
       "description": "KP",
       "layout": "IPY_MODEL_cd8de30c61cb4cf8844dd7113888e3eb",
       "max": 1,
       "step": 0.1,
       "style": "IPY_MODEL_453c8713eb004c0b8b8487b1d57c0754",
       "value": 0.5
      }
     },
     "cd8de30c61cb4cf8844dd7113888e3eb": {
      "model_module": "@jupyter-widgets/base",
      "model_module_version": "1.2.0",
      "model_name": "LayoutModel",
      "state": {}
     },
     "d3a5d66911894daeacfba8af59d57efa": {
      "model_module": "@jupyter-widgets/controls",
      "model_module_version": "1.5.0",
      "model_name": "SliderStyleModel",
      "state": {
       "description_width": ""
      }
     },
     "d85b8ea6efba4d46bb1d06950d38a2bc": {
      "model_module": "@jupyter-widgets/controls",
      "model_module_version": "1.5.0",
      "model_name": "FloatSliderModel",
      "state": {
       "description": "KD",
       "layout": "IPY_MODEL_1d90216b67004cfa92838326b3b22499",
       "max": 1,
       "step": 0.1,
       "style": "IPY_MODEL_f191a2e356cf40c68843f187a70ad73e",
       "value": 0.5
      }
     },
     "eedf67fe3226491393ba02cc92556660": {
      "model_module": "@jupyter-widgets/base",
      "model_module_version": "1.2.0",
      "model_name": "LayoutModel",
      "state": {}
     },
     "f191a2e356cf40c68843f187a70ad73e": {
      "model_module": "@jupyter-widgets/controls",
      "model_module_version": "1.5.0",
      "model_name": "SliderStyleModel",
      "state": {
       "description_width": ""
      }
     },
     "f2c7f115d60a4d4b8f8319757ac8f3bf": {
      "model_module": "@jupyter-widgets/base",
      "model_module_version": "1.2.0",
      "model_name": "LayoutModel",
      "state": {}
     }
    },
    "version_major": 2,
    "version_minor": 0
   }
  }
 },
 "nbformat": 4,
 "nbformat_minor": 4
}
